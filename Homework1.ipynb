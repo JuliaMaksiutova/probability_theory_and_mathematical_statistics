{
  "nbformat": 4,
  "nbformat_minor": 0,
  "metadata": {
    "colab": {
      "provenance": [],
      "authorship_tag": "ABX9TyM1z0/8+mg2Hv0OKxCls0vL"
    },
    "kernelspec": {
      "name": "python3",
      "display_name": "Python 3"
    },
    "language_info": {
      "name": "python"
    }
  },
  "cells": [
    {
      "cell_type": "markdown",
      "source": [
        "**1. Из колоды в 52 карты извлекаются случайным образом 4 карты. Найти вероятность того, что все карты – крести. Найти вероятность, что среди этих карт окажется хотя бы один туз.**"
      ],
      "metadata": {
        "id": "x_L-tmU2ksiv"
      }
    },
    {
      "cell_type": "code",
      "source": [
        "from math import factorial"
      ],
      "metadata": {
        "id": "icbcGY7kku_2"
      },
      "execution_count": 1,
      "outputs": []
    },
    {
      "cell_type": "markdown",
      "source": [
        "А - в выбранных четырех картах, все карты - крести\n",
        "\n",
        "n = сочетание 4 из 52 m = сочетание 4 из 13"
      ],
      "metadata": {
        "id": "A5VJgXRRk0LI"
      }
    },
    {
      "cell_type": "code",
      "source": [
        "n = factorial(52) / (factorial(4)*factorial(52 - 4))\n",
        "m = factorial(13) / (factorial(4)*factorial(13 - 4))\n",
        "print(f'Вероятность того, что все карты - крести = {m/n :.4f}')"
      ],
      "metadata": {
        "colab": {
          "base_uri": "https://localhost:8080/"
        },
        "id": "wzQBl5Bhk0yU",
        "outputId": "b30b18de-cfb5-4ffd-c829-fb6df59b8e53"
      },
      "execution_count": 2,
      "outputs": [
        {
          "output_type": "stream",
          "name": "stdout",
          "text": [
            "Вероятность того, что все карты - крести = 0.0026\n"
          ]
        }
      ]
    },
    {
      "cell_type": "markdown",
      "source": [
        "А - среди выбранных карт хотя бы один туз\n",
        "\n",
        "А = А1 + А2 + А3 + А4\n",
        "\n",
        "А1 - среди выбранных один туз\n",
        "\n",
        "А2 - среди выбранных два туза\n",
        "\n",
        "А3 - среди выбранных три туза\n",
        "\n",
        "А4 - среди выбранных четыре туза\n",
        "\n",
        "n - сочетание 4 из 52\n",
        "\n",
        "m1 = (сочетание 1 из 4 ) * (сочетание 3 из 48)\n",
        "\n",
        "m2 = (сочетание 2 из 4 ) * (сочетание 2 из 48)\n",
        "\n",
        "m3 = (сочетание 3 из 4 ) * (сочетание 1 из 48)\n",
        "\n",
        "m4 = сочетание 4 из 4"
      ],
      "metadata": {
        "id": "AraNwh8dk97A"
      }
    },
    {
      "cell_type": "code",
      "source": [
        "P1 = (factorial(4) / (factorial(1)*factorial(4 - 1))) * (factorial(48) / (factorial(3)*factorial(48 - 3))) / n\n",
        "P2 = (factorial(4) / (factorial(2)*factorial(4 - 2))) * (factorial(48) / (factorial(2)*factorial(48 - 2))) / n\n",
        "P3 = (factorial(4) / (factorial(3)*factorial(4 - 3))) * (factorial(48) / (factorial(1)*factorial(48 - 1))) / n\n",
        "P4 = factorial(4) / (factorial(4)*factorial(4 - 4)) / n\n",
        "P = P1 + P2 + P3 + P4\n",
        "print(f'Вероятность того, что среди этих карт окажется хотя бы один туз = {P :.2f}')"
      ],
      "metadata": {
        "colab": {
          "base_uri": "https://localhost:8080/"
        },
        "id": "iM44xuXBk-aZ",
        "outputId": "51dd850d-cb02-405f-bc98-6baa36ed64bc"
      },
      "execution_count": 4,
      "outputs": [
        {
          "output_type": "stream",
          "name": "stdout",
          "text": [
            "Вероятность того, что среди этих карт окажется хотя бы один туз = 0.28\n"
          ]
        }
      ]
    },
    {
      "cell_type": "markdown",
      "source": [
        "**2. На входной двери подъезда установлен кодовый замок, содержащий десять кнопок с цифрами от 0 до 9. Код содержит три цифры, которые нужно нажать одновременно. Какова вероятность того, что человек, не знающий код, откроет дверь с первой попытки?**"
      ],
      "metadata": {
        "id": "uUg-IXhxmJP7"
      }
    },
    {
      "cell_type": "markdown",
      "source": [
        "А - открыл с первой попытки\n",
        "\n",
        "n = размещение 3 из 10\n",
        "\n",
        "m = 1"
      ],
      "metadata": {
        "id": "yL0w-UbFmNB1"
      }
    },
    {
      "cell_type": "code",
      "source": [
        "P = 1 / (factorial(10) / factorial(10 - 3))\n",
        "print(f'Вероятность того, что дверь открыта с первой попытки = {P :.4f}')"
      ],
      "metadata": {
        "colab": {
          "base_uri": "https://localhost:8080/"
        },
        "id": "Y6Y_hUo3mOPU",
        "outputId": "7f75f4a1-c9ca-4cc0-fe7d-d17efc420298"
      },
      "execution_count": 5,
      "outputs": [
        {
          "output_type": "stream",
          "name": "stdout",
          "text": [
            "Вероятность того, что дверь открыта с первой попытки = 0.0014\n"
          ]
        }
      ]
    },
    {
      "cell_type": "markdown",
      "source": [
        "**3. В ящике имеется 15 деталей, из которых 9 окрашены. Рабочий случайным образом извлекает 3 детали. Какова вероятность того, что все извлеченные детали окрашены?**"
      ],
      "metadata": {
        "id": "aenjZFM7mT7_"
      }
    },
    {
      "cell_type": "markdown",
      "source": [
        "А - все три детали окрашены\n",
        "\n",
        "n - сочетание 3 из 15\n",
        "\n",
        "m - сочетание 3 из 9"
      ],
      "metadata": {
        "id": "KXm9a6qxmYmV"
      }
    },
    {
      "cell_type": "code",
      "source": [
        "P = (factorial(9) / (factorial(3)*factorial(9 - 3))) / (factorial(15) / (factorial(3)*factorial(15 - 3)))\n",
        "print(f'Вероятность того, что все извлеченные детали окрашены = {P :.2f}')"
      ],
      "metadata": {
        "colab": {
          "base_uri": "https://localhost:8080/"
        },
        "id": "FJTCgIZ7mbcV",
        "outputId": "06770bb8-de23-4144-8df4-e0c2002366ae"
      },
      "execution_count": 6,
      "outputs": [
        {
          "output_type": "stream",
          "name": "stdout",
          "text": [
            "Вероятность того, что все извлеченные детали окрашены = 0.18\n"
          ]
        }
      ]
    },
    {
      "cell_type": "markdown",
      "source": [
        "**4. В лотерее 100 билетов. Из них 2 выигрышных. Какова вероятность того, что 2 приобретенных билета окажутся выигрышными?**"
      ],
      "metadata": {
        "id": "O8FXm84fmfL3"
      }
    },
    {
      "cell_type": "markdown",
      "source": [
        "А - два приобретенных билета выигрышные\n",
        "\n",
        "n - сочетание 2 из 100\n",
        "\n",
        "m - сочетание 2 из 2"
      ],
      "metadata": {
        "id": "vLg4pp5Wmh9m"
      }
    },
    {
      "cell_type": "code",
      "source": [
        "P = (factorial(2) / (factorial(2)*factorial(2 - 2))) / (factorial(100) / (factorial(2)*factorial(100 - 2)))\n",
        "print(f'Вероятность того, что оба билета выигрышные = {P :.5f}')"
      ],
      "metadata": {
        "colab": {
          "base_uri": "https://localhost:8080/"
        },
        "id": "fmJ_h8bamiZx",
        "outputId": "d644ab18-6c30-4402-c23f-6ff995c50408"
      },
      "execution_count": 7,
      "outputs": [
        {
          "output_type": "stream",
          "name": "stdout",
          "text": [
            "Вероятность того, что оба билета выигрышные = 0.00020\n"
          ]
        }
      ]
    }
  ]
}