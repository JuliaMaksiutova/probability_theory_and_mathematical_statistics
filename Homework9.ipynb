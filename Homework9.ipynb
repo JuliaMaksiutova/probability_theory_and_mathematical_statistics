{
  "nbformat": 4,
  "nbformat_minor": 0,
  "metadata": {
    "colab": {
      "provenance": [],
      "authorship_tag": "ABX9TyMIXoEqDTuPApZG3oJrWo6l"
    },
    "kernelspec": {
      "name": "python3",
      "display_name": "Python 3"
    },
    "language_info": {
      "name": "python"
    }
  },
  "cells": [
    {
      "cell_type": "code",
      "execution_count": 29,
      "metadata": {
        "id": "OI6sSgpIksg7"
      },
      "outputs": [],
      "source": [
        "import numpy as np"
      ]
    },
    {
      "cell_type": "code",
      "source": [
        "from matplotlib import pyplot as plt"
      ],
      "metadata": {
        "id": "LYS1Gr8SkzqS"
      },
      "execution_count": 30,
      "outputs": []
    },
    {
      "cell_type": "code",
      "source": [
        "import pandas as pd"
      ],
      "metadata": {
        "id": "5AL_NogVk05U"
      },
      "execution_count": 31,
      "outputs": []
    },
    {
      "cell_type": "code",
      "source": [
        "%matplotlib inline"
      ],
      "metadata": {
        "id": "bf43EO1Ck2YA"
      },
      "execution_count": 32,
      "outputs": []
    },
    {
      "cell_type": "markdown",
      "source": [
        "### **1. Даны значения величины заработной платы заемщиков банка (zp) и значения их поведенческого кредитного скоринга (ks): zp = [35, 45, 190, 200, 40, 70, 54, 150, 120, 110], ks = [401, 574, 874, 919, 459, 739, 653, 902, 746, 832]. Используя математические операции, посчитать коэффициенты линейной регрессии, приняв за X заработную плату (то есть, zp - признак), а за y - значения скорингового балла (то есть, ks - целевая переменная). Произвести расчет как с использованием intercept, так и без.**"
      ],
      "metadata": {
        "id": "CIDU0PoZk-DM"
      }
    },
    {
      "cell_type": "code",
      "source": [
        "zp = np.array([35, 45, 190, 200, 40, 70, 54, 150, 120, 110])\n",
        "ks = np.array([401, 574, 874, 919, 459, 739, 653, 902, 746, 832])"
      ],
      "metadata": {
        "id": "8E_ES7IrlFOb"
      },
      "execution_count": 33,
      "outputs": []
    },
    {
      "cell_type": "code",
      "source": [
        "b = ((zp * ks).mean() - zp.mean() * ks.mean()) / ((zp ** 2).mean() - (zp.mean() ** 2))\n",
        "b"
      ],
      "metadata": {
        "colab": {
          "base_uri": "https://localhost:8080/"
        },
        "id": "kExcyYiZ6P6P",
        "outputId": "659991a0-d773-4646-c027-01e7db1720df"
      },
      "execution_count": 38,
      "outputs": [
        {
          "output_type": "execute_result",
          "data": {
            "text/plain": [
              "2.620538882402765"
            ]
          },
          "metadata": {},
          "execution_count": 38
        }
      ]
    },
    {
      "cell_type": "code",
      "source": [
        "a = ks.mean() - b * zp.mean()\n",
        "a"
      ],
      "metadata": {
        "colab": {
          "base_uri": "https://localhost:8080/"
        },
        "id": "gU9wslje6UCM",
        "outputId": "5c4054a3-072f-4f39-89eb-f6d3c9a3077f"
      },
      "execution_count": 39,
      "outputs": [
        {
          "output_type": "execute_result",
          "data": {
            "text/plain": [
              "444.1773573243596"
            ]
          },
          "metadata": {},
          "execution_count": 39
        }
      ]
    },
    {
      "cell_type": "code",
      "source": [
        "plt.scatter(zp, ks)\n",
        "plt.plot(zp, a + b * zp)"
      ],
      "metadata": {
        "colab": {
          "base_uri": "https://localhost:8080/",
          "height": 447
        },
        "id": "8EmAXjNp6VpA",
        "outputId": "49cdf2ca-4e58-47c1-d6e5-ea00d6f19b95"
      },
      "execution_count": 40,
      "outputs": [
        {
          "output_type": "execute_result",
          "data": {
            "text/plain": [
              "[<matplotlib.lines.Line2D at 0x79abb864ef50>]"
            ]
          },
          "metadata": {},
          "execution_count": 40
        },
        {
          "output_type": "display_data",
          "data": {
            "text/plain": [
              "<Figure size 640x480 with 1 Axes>"
            ],
            "image/png": "[encoded data removed]"
          },
          "metadata": {}
        }
      ]
    },
    {
      "cell_type": "code",
      "source": [
        "mse_ = np.sum(((a + b * zp) - ks) ** 2 / 10)\n",
        "mse_"
      ],
      "metadata": {
        "colab": {
          "base_uri": "https://localhost:8080/"
        },
        "id": "Q5D2VJ-w6Yy-",
        "outputId": "778e5773-72c8-4463-8481-039322b31e95"
      },
      "execution_count": 41,
      "outputs": [
        {
          "output_type": "execute_result",
          "data": {
            "text/plain": [
              "6470.414201176659"
            ]
          },
          "metadata": {},
          "execution_count": 41
        }
      ]
    },
    {
      "cell_type": "markdown",
      "source": [
        "**без interсept**"
      ],
      "metadata": {
        "id": "ge_hESPm6b1w"
      }
    },
    {
      "cell_type": "code",
      "source": [
        "zp = zp.reshape(1, len(zp))\n",
        "ks = ks.reshape(1, len(ks))"
      ],
      "metadata": {
        "id": "FOiUXnia6tnx"
      },
      "execution_count": 42,
      "outputs": []
    },
    {
      "cell_type": "code",
      "source": [
        "np.dot(np.dot(np.linalg.inv(np.dot(zp, zp.T)), zp), ks.T)"
      ],
      "metadata": {
        "colab": {
          "base_uri": "https://localhost:8080/"
        },
        "id": "cwd_RkQv6vIi",
        "outputId": "8e9bd5b7-b1a1-44b2-ac8d-5f5b36220286"
      },
      "execution_count": 43,
      "outputs": [
        {
          "output_type": "execute_result",
          "data": {
            "text/plain": [
              "array([[5.88982042]])"
            ]
          },
          "metadata": {},
          "execution_count": 43
        }
      ]
    },
    {
      "cell_type": "code",
      "source": [
        "mse_ = np.sum(((0 + 5.88982042 * zp) - ks) ** 2 / 10)\n",
        "mse_"
      ],
      "metadata": {
        "colab": {
          "base_uri": "https://localhost:8080/"
        },
        "id": "CmRstluD6wpa",
        "outputId": "fee54c31-3d2a-423b-94a5-1c7bb6a59002"
      },
      "execution_count": 44,
      "outputs": [
        {
          "output_type": "execute_result",
          "data": {
            "text/plain": [
              "56516.85841571942"
            ]
          },
          "metadata": {},
          "execution_count": 44
        }
      ]
    },
    {
      "cell_type": "code",
      "source": [
        "def mse_(w1, y=ks, X=zp, n=10):\n",
        "    return np.sum((w1 * X - y) ** 2) / n"
      ],
      "metadata": {
        "id": "pHb7bLb06yKn"
      },
      "execution_count": 45,
      "outputs": []
    },
    {
      "cell_type": "code",
      "source": [
        "mse_(5.88982042)"
      ],
      "metadata": {
        "colab": {
          "base_uri": "https://localhost:8080/"
        },
        "id": "zL9OS-8h6z7s",
        "outputId": "f726e899-a557-47f0-b49d-84b2e02e8034"
      },
      "execution_count": 46,
      "outputs": [
        {
          "output_type": "execute_result",
          "data": {
            "text/plain": [
              "56516.85841571943"
            ]
          },
          "metadata": {},
          "execution_count": 46
        }
      ]
    },
    {
      "cell_type": "markdown",
      "source": [
        "**С intercept**"
      ],
      "metadata": {
        "id": "wyCamZtf62hc"
      }
    },
    {
      "cell_type": "code",
      "source": [
        "zp = np.vstack([np.ones((1, 10)), zp])"
      ],
      "metadata": {
        "id": "yOpEDG1j67Vd"
      },
      "execution_count": 47,
      "outputs": []
    },
    {
      "cell_type": "code",
      "source": [
        "np.dot(np.dot(np.linalg.inv(np.dot(zp, zp.T)), zp), ks.T)"
      ],
      "metadata": {
        "colab": {
          "base_uri": "https://localhost:8080/"
        },
        "id": "fl5YxX7o68oC",
        "outputId": "caca88a9-ae8a-4778-8620-a7f5275ae172"
      },
      "execution_count": 48,
      "outputs": [
        {
          "output_type": "execute_result",
          "data": {
            "text/plain": [
              "array([[444.17735732],\n",
              "       [  2.62053888]])"
            ]
          },
          "metadata": {},
          "execution_count": 48
        }
      ]
    },
    {
      "cell_type": "markdown",
      "source": [
        "### **2. Посчитать коэффициент линейной регрессии при заработной плате (zp), используя градиентный спуск (без intercept).**"
      ],
      "metadata": {
        "id": "WCtewQj97BDv"
      }
    },
    {
      "cell_type": "code",
      "source": [
        "zp = np.array([35, 45, 190, 200, 40, 70, 54, 150, 120, 110])\n",
        "ks = np.array([401, 574, 874, 919, 459, 739, 653, 902, 746, 832])"
      ],
      "metadata": {
        "id": "h4SBeXE37EgL"
      },
      "execution_count": 49,
      "outputs": []
    },
    {
      "cell_type": "code",
      "source": [
        "alpha = 1e-6"
      ],
      "metadata": {
        "id": "kg43Fewx7F4B"
      },
      "execution_count": 50,
      "outputs": []
    },
    {
      "cell_type": "code",
      "source": [
        "w1 = 0.1"
      ],
      "metadata": {
        "id": "v039-2--7HVB"
      },
      "execution_count": 51,
      "outputs": []
    },
    {
      "cell_type": "code",
      "source": [
        "def mse_(w1, y=ks, X=zp, n=10):\n",
        "    return np.sum((w1 * X - y) ** 2) / n"
      ],
      "metadata": {
        "id": "5jHoGF4o7HZw"
      },
      "execution_count": 52,
      "outputs": []
    },
    {
      "cell_type": "code",
      "source": [
        "for i in range(1000):\n",
        "    fp = (1 / 10) * np.sum(2 * (w1 * zp - ks) * zp)\n",
        "    w1 -= alpha * fp\n",
        "    if i % 100 == 0:\n",
        "        print(f'Итерация: {i}, w1 : {w1}, mse: {mse_(w1) }')"
      ],
      "metadata": {
        "colab": {
          "base_uri": "https://localhost:8080/"
        },
        "id": "MQhSFal07Mtq",
        "outputId": "d0eb9369-72b2-4a68-ad05-29bec73fbf6b"
      },
      "execution_count": 54,
      "outputs": [
        {
          "output_type": "stream",
          "name": "stdout",
          "text": [
            "Итерация: 0, w1 : 5.8898204201285544, mse: 56516.85841571941\n",
            "Итерация: 100, w1 : 5.889820420132437, mse: 56516.85841571943\n",
            "Итерация: 200, w1 : 5.889820420132673, mse: 56516.85841571943\n",
            "Итерация: 300, w1 : 5.889820420132673, mse: 56516.85841571943\n",
            "Итерация: 400, w1 : 5.889820420132673, mse: 56516.85841571943\n",
            "Итерация: 500, w1 : 5.889820420132673, mse: 56516.85841571943\n",
            "Итерация: 600, w1 : 5.889820420132673, mse: 56516.85841571943\n",
            "Итерация: 700, w1 : 5.889820420132673, mse: 56516.85841571943\n",
            "Итерация: 800, w1 : 5.889820420132673, mse: 56516.85841571943\n",
            "Итерация: 900, w1 : 5.889820420132673, mse: 56516.85841571943\n"
          ]
        }
      ]
    },
    {
      "cell_type": "markdown",
      "source": [
        "### **3. Произвести вычисления как в пункте 2, но с вычислением intercept. Учесть, что изменение коэффициентов должно производиться на каждом шаге одновременно (то есть изменение одного коэффициента не должно влиять на изменение другого во время одной итерации).**"
      ],
      "metadata": {
        "id": "8TK80UJX7d74"
      }
    },
    {
      "cell_type": "code",
      "source": [
        "def _mse_ab(a,b, x, y):\n",
        "    return np.sum(((a+b*x)-y)**2)/len(x)"
      ],
      "metadata": {
        "id": "tbFKvyZn7pKv"
      },
      "execution_count": 55,
      "outputs": []
    },
    {
      "cell_type": "code",
      "source": [
        "def _mse_pa(a,b,x,y):\n",
        "    return 2*np.sum((a+b*x)-y)/len(x)"
      ],
      "metadata": {
        "id": "HefyGEBj7q4k"
      },
      "execution_count": 56,
      "outputs": []
    },
    {
      "cell_type": "code",
      "source": [
        "def _mse_pb(a,b,x,y):\n",
        "    return 2*np.sum(((a+b*x)-y)*x)/len(x)"
      ],
      "metadata": {
        "id": "RLi1FA987sgY"
      },
      "execution_count": 57,
      "outputs": []
    },
    {
      "cell_type": "code",
      "source": [
        "alpha=5e-05"
      ],
      "metadata": {
        "id": "dQ77nFgJ7uML"
      },
      "execution_count": 58,
      "outputs": []
    },
    {
      "cell_type": "code",
      "source": [
        "b=0.1\n",
        "a=0.1\n",
        "mseab_min=_mse_ab(a,b,zp,ks)\n",
        "i_min=1\n",
        "b_min=b\n",
        "a_min=a\n",
        "\n",
        "for i in range(1000000):\n",
        "    a-=alpha*_mse_pa(a,b,zp,ks)\n",
        "    b-=alpha*_mse_pb(a,b,zp,ks)\n",
        "    if i%50000==0:\n",
        "        print(f'Итерация #{i}, a={a}, b={b}, mse={_mse_ab(a, b, zp,ks)}')\n",
        "    if _mse_ab(a, b,zp,ks)>mseab_min:\n",
        "        print(f'Итерация #{i_min}, a={a_min}, b={b_min}, mse={mseab_min},\\nДостигнут минимум.')\n",
        "        break\n",
        "    else:\n",
        "        mseab_min=_mse_ab(a, b,zp,ks)\n",
        "        i_min=i\n",
        "        b_min=b\n",
        "        a_min=a\n",
        "print(f'a={a_min}\\nb={b_min}')"
      ],
      "metadata": {
        "colab": {
          "base_uri": "https://localhost:8080/"
        },
        "id": "SX0C7A_07wRB",
        "outputId": "0037f816-007e-433f-ab71-5c5b2b067a59"
      },
      "execution_count": 59,
      "outputs": [
        {
          "output_type": "stream",
          "name": "stdout",
          "text": [
            "Итерация #0, a=0.169966, b=8.07468054476, mse=122318.06397097567\n",
            "Итерация #50000, a=319.27767648420047, b=3.5398324356503275, mse=10427.569111705801\n",
            "Итерация #100000, a=409.0442373734796, b=2.879127619051743, mse=6783.521961452364\n",
            "Итерация #150000, a=434.29473705519484, b=2.693277491833349, mse=6495.188684804794\n",
            "Итерация #200000, a=441.3974680483413, b=2.6409995775222037, mse=6472.374468908443\n",
            "Итерация #250000, a=443.39540029510493, b=2.62629428586797, mse=6470.569306309746\n",
            "Итерация #300000, a=443.95740007610897, b=2.622157823932053, mse=6470.426473787141\n",
            "Итерация #350000, a=444.1154853937451, b=2.6209942756156086, mse=6470.415172240385\n",
            "Итерация #400000, a=444.159953325044, b=2.6206669802831115, mse=6470.414278011555\n",
            "Итерация #450000, a=444.1724617410292, b=2.6205749151465225, mse=6470.414207256183\n",
            "Итерация #500000, a=444.1759802422447, b=2.6205490180788695, mse=6470.414201657699\n",
            "Итерация #520164, a=444.17653163778414, b=2.62054495966686, mse=6470.414201349592,\n",
            "Достигнут минимум.\n",
            "a=444.17653163778414\n",
            "b=2.62054495966686\n"
          ]
        }
      ]
    },
    {
      "cell_type": "code",
      "source": [
        "plt.scatter(zp,ks)\n",
        "plt.plot(zp,a_min+b_min*zp, c='r', label=r'$ks=444.17653163778414+2.62054495966686\\cdot zp$')\n",
        "plt.legend()\n",
        "plt.xlabel('Величина заработной платы')\n",
        "plt.ylabel('Поведенческий кредитный скоринг', rotation=90)\n",
        "plt.show()"
      ],
      "metadata": {
        "colab": {
          "base_uri": "https://localhost:8080/",
          "height": 449
        },
        "id": "Gswuc5qE75-2",
        "outputId": "5900d85a-05e8-4b8e-e0c6-f7d6b9f11ece"
      },
      "execution_count": 60,
      "outputs": [
        {
          "output_type": "display_data",
          "data": {
            "text/plain": [
              "<Figure size 640x480 with 1 Axes>"
            ],
            "image/png": "[encoded data removed]"
          },
          "metadata": {}
        }
      ]
    }
  ]
}