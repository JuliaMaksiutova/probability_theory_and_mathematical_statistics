{
  "nbformat": 4,
  "nbformat_minor": 0,
  "metadata": {
    "colab": {
      "provenance": [],
      "authorship_tag": "ABX9TyMMcvEB17BKRJT2K9/ebH05"
    },
    "kernelspec": {
      "name": "python3",
      "display_name": "Python 3"
    },
    "language_info": {
      "name": "python"
    }
  },
  "cells": [
    {
      "cell_type": "code",
      "execution_count": 1,
      "metadata": {
        "id": "3oKnA4Fx0i-P"
      },
      "outputs": [],
      "source": [
        "import pandas as pd\n",
        "import numpy as np\n",
        "from math import factorial as fl"
      ]
    },
    {
      "cell_type": "markdown",
      "source": [
        "**1. Вероятность того, что стрелок попадет в мишень, выстрелив один раз, равна 0.8. Стрелок выстрелил 100 раз. Найдите вероятность того, что стрелок попадет в цель ровно 85 раз.**"
      ],
      "metadata": {
        "id": "UZIISI100qKz"
      }
    },
    {
      "cell_type": "markdown",
      "source": [
        "![Безымянный.png](data:image/png;base64,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)"
      ],
      "metadata": {
        "id": "vY7gKNoa0yqX"
      }
    },
    {
      "cell_type": "markdown",
      "source": [
        "Используем биноминальное распределение с параметрами:\n",
        "\n",
        "- k = 85\n",
        "\n",
        "- n = 100\n",
        "\n",
        "- p = 0.8\n",
        "\n",
        "- q = 1 - p = 1 - 0.8 = 0.2"
      ],
      "metadata": {
        "id": "CQK5CAk21H9q"
      }
    },
    {
      "cell_type": "code",
      "source": [
        "P100 = (fl(100) / (fl(85) * fl(100 - 85))) * 0.8 ** 85 * 0.2 ** (100 - 85)\n",
        "print(f'Вероятность того, что стрелок, сделав сто выстрелов, попадет в мишень ровно 85 раз = {P100 :.4f}')"
      ],
      "metadata": {
        "colab": {
          "base_uri": "https://localhost:8080/"
        },
        "id": "lfgiTK291QLo",
        "outputId": "84ea9024-32e9-4d51-886c-d6bea5592175"
      },
      "execution_count": 2,
      "outputs": [
        {
          "output_type": "stream",
          "name": "stdout",
          "text": [
            "Вероятность того, что стрелок, сделав сто выстрелов, попадет в мишень ровно 85 раз = 0.0481\n"
          ]
        }
      ]
    },
    {
      "cell_type": "markdown",
      "source": [
        "**2. Вероятность того, что лампочка перегорит в течение первого дня эксплуатации, равна 0.0004. В жилом комплексе после ремонта в один день включили 5000 новых лампочек. Какова вероятность, что ни одна из них не перегорит в первый день? Какова вероятность, что перегорят ровно две?**"
      ],
      "metadata": {
        "id": "xc848Bot22bK"
      }
    },
    {
      "cell_type": "markdown",
      "source": [
        "А - не перегорела ни одна лампочка"
      ],
      "metadata": {
        "id": "Ttv_SEsz267Q"
      }
    },
    {
      "cell_type": "markdown",
      "source": [
        "![image.png](data:image/png;base64,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)"
      ],
      "metadata": {
        "id": "Ymjk7Pm83AJv"
      }
    },
    {
      "cell_type": "code",
      "source": [
        "P = 1 - (1 - 0.0004) ** 5000\n",
        "\n",
        "print(f'Вероятность того, что не перегорит ни одна лампочка = {P :.3f}')"
      ],
      "metadata": {
        "colab": {
          "base_uri": "https://localhost:8080/"
        },
        "id": "PO2dgthA3A1I",
        "outputId": "6a214822-50dc-405d-f17f-e275294ad84b"
      },
      "execution_count": 3,
      "outputs": [
        {
          "output_type": "stream",
          "name": "stdout",
          "text": [
            "Вероятность того, что не перегорит ни одна лампочка = 0.865\n"
          ]
        }
      ]
    },
    {
      "cell_type": "markdown",
      "source": [
        "**3. Монету подбросили 144 раза. Какова вероятность, что орел выпадет ровно 70 раз?**"
      ],
      "metadata": {
        "id": "87mz6vZM4CLP"
      }
    },
    {
      "cell_type": "markdown",
      "source": [
        "А - монета выпала 40 раз\n",
        "\n",
        "n = 144\n",
        "\n",
        "k = 70\n",
        "\n",
        "p = 0.5\n",
        "\n",
        "q = 0.5"
      ],
      "metadata": {
        "id": "a0T3wwdO4GH-"
      }
    },
    {
      "cell_type": "code",
      "source": [
        "P144 = (fl(144) / (fl(70) * fl(144 - 70))) * 0.5 ** 70 * 0.5 ** (144 - 70)\n",
        "\n",
        "print(f'Вероятность того, что орел выпадет ровно 70 раз = {P144 :.4f}')"
      ],
      "metadata": {
        "colab": {
          "base_uri": "https://localhost:8080/"
        },
        "id": "BX-oPRMU4Gyp",
        "outputId": "082967ad-ac6c-458a-b0d6-6c15a9547a6d"
      },
      "execution_count": 4,
      "outputs": [
        {
          "output_type": "stream",
          "name": "stdout",
          "text": [
            "Вероятность того, что орел выпадет ровно 70 раз = 0.0628\n"
          ]
        }
      ]
    },
    {
      "cell_type": "markdown",
      "source": [
        "**4. В первом ящике находится 10 мячей, из которых 7 - белые. Во втором ящике - 11 мячей, из которых 9 белых. Из каждого ящика вытаскивают случайным образом по два мяча. Какова вероятность того, что все мячи белые? Какова вероятность того, что ровно два мяча белые? Какова вероятность того, что хотя бы один мяч белый?**"
      ],
      "metadata": {
        "id": "BxNtLoVU4L5S"
      }
    },
    {
      "cell_type": "markdown",
      "source": [
        "А1 - мячи, вынутые из первого ящика все белые\n",
        "\n",
        "А2 - мячи, вынутые из второго ящика все белые\n",
        "\n",
        "А = А1 * А2 - все мячи белые"
      ],
      "metadata": {
        "id": "UJla_EtL4Ouu"
      }
    },
    {
      "cell_type": "markdown",
      "source": [
        "![image.png](data:image/png;base64,iVBORw0KGgoAAAANSUhEUgAAALYAAAB8CAYAAADEg0rWAAAQrklEQVR4nO2df2wU55nHPz0iLUolR5y0VnryqoztNCpL7o7lusgookYp2VxCcBtz9G59pgFMAjEtIT5i18mZksSOj+CEgl2LrOFSHCvBpY3WtGi3CrVzQbuidx5OxEtFWOeIx5LRrgTySiCPRPTeH7u218b22mHWux7ej+Q/dn688z7vfHf87PvMzPcbQgiBRGIy/irTHZBI0oEUtsSUSGFLTIkUtsSUSGFLTIkUtsSUSGFLTIkUtsSUSGFnAXqwhZqXt/L4rnZCeqZ7Yw6ksDNOFP8ZC+UH9lMR20fnuVimO2QK7st0B+4NYoT97bR19GFZsRLLUJhcuxVfeCXHX7ei/dHHcHkF9u9B0+ca+x+zZ7rDCx4p7HRzK0znv5fRmfMa7/xnJbZFACHa1j+N5V8/IQcbledPwS2Vlh4Hm18tzHSPTYEUdlrRUY/VUHN1O6d/68I2tjyX3KVWVj+cWHIrRPubPgrffIe8RTpgyUx3TcQ35N19aeTLTraurcHyy/O0Pm2dsEqPxSAnBwtR/FXrabhaSB6D5Dx76o5tJXNHCjuNRM+8yKpdURq7O9j07Uz35t4iC2ZFYgTf2klTOmYDbqm0lO3Df8P4pmeDxfIAkMPiSZlFzF9DjV/OfqQTg4UdpeeNMspKv09+fj6rniijbHP8b+PaVTy+vYGu/okTtaHjW2lavJ1dj+akbNtftYr8t4JTrtWvBWl7uYauwaSF9zuofMWG54kmghmYH85xrKXc6iegRscXDnbRcHY1la4c0IM0rHo8MT75bD2lzX8nzYpIA5GuHUJRFFHtG05aOiC8lYpQlB3CO5RYdPWk2OKsE93XU7c5/HGdcCqKUN4MiJGk5X3vuYXb7RalxYpQFLc4eXXyniMicMApnId77yqmr8tI2Cvqt5SKLa8eFJ6360Td0V4xNiqRgDjx8YAQNwPi4F6vGMhID81JGoQ9IgJvThJwgt63FaEoiqj/dESMCm79270ThDolNwOi3hnfVyk/OaUAeg9PJ2whRMgj1it1ont4inUZZ0QEDpQKTyjT/TAXacixw6gfAY+upGBJ8vIQ6lkAF8uXWkBX6W6N4lhhTzG5paMeayJS00glwIjOnLOKZQ6KaccXzMK8NhbE1+rAXpDpjpgL44X9ZYhAFOzfc1CYpFjttAfPJRubDlThygP6QwQpwq6kmLO91E7D5RJ2uQpZDPA/GtE5K9vGQ09C5+fhue6Yfr4M4eMBLHLq2lAML9BEQwGCQOFlH+3vqsAw2kWVyJIneO33r+BaFp+jjQ1phCgkd8YpW43OgwGe+LdWCu+PcelJ4IyO/tVce2UlrwAYihIDpvqZGj3bRNPZ6BRr7sTxL41semSufZiGR8rp+L2OrDcai8HC1glf7AKKqdhbO+PcrX4rAtiwLJp+G+2jBjpX7KJjWfLlLEwkCsx1Xvg+YHCYYaYWtvWxKhofm2ObU5Cfn3/3jSTxxRdfGNrevYLBwg4l8uvV2B+8y6Zu9NB2uB+LrYmtm+OLdA0gSuzmXbadRuYmRI3ON1pQ/6KRs/0QtcWy4mgUxgr7yzCBKFh/ZJ+QX09FzhIbMF1aoRM8ug9qTtPhGr++hlpX8fRbYSLXv8b9FLeBnMXxPH0KMpKKXOgiVFTL/uJmvtvopaS4AnlfnzEYKuzoxW6CgMtemFJ2lr/OxU73lGlFzN/Ai4NVnKqZmDTk5jkAP+Fr8TRmDj1jsB/sD+dNmYaAcanInYcO0n74BD7dxtpv6YT1QmxRL5ZtpygZukJPUKWqcjmuS39iMAp2edE2BkMmDVWPcJe7xbrEXLPT5RbuV30iMtM+IwFRryiirjtpFlv1CPcza+Lz1coa4T42WlS5Ik5WjhZhFKE41wn3z06IvtuJAs3kY5dXC6+WfLBecVBxirqP53cie/jTg6LUuUV4Lo4fd9hXLRSlXgSSwh7o2i3WvCQLNEaSlsrj7IgXaJS356EiGPKI9bOscBqG5hW7nVN8mdRmoVR6x770Ax/Xi7r3+sTA5T4RSVmpksyWDN4EZaHoqe04jnjpSWvdRCf4Bw/W5zdRtCT11oYd84N6uthMyWOTkp+/reB/D2zACuiftbCntofw2Qa2lfegybls48js92pE9P2qNL33cYQ8ovSZZtF7M32HuJM+0ey8874WyfyR4dtWLdh3HufQSBMN59Jw+90tlZZfDbP9lxU47je++ZmwWIFvWib9iA7RtrWN0Px25Z5EPmiQJkLHN/L079Zy2luJfRFADPVINcFHD1G5YlTuOvEHaSxwS6XtF0Fy7BqqtZLGJ+cy6yOZjBR22oihvltHgx8crodAG2H5s7vYUJAQ9TWVzvZmar78IeebN8CZF1nVv5kv/mmQnSUau85Xyjntu0A+zJs2cnA8d4hTz02z+kEHm36wkppj8Y9afxeQKLFG++i/xt1Xb+9hsuDRMInEeKSws4TCZeXjH5atpEBere8KmYpkihthgpc0iI2gfhaluKiEqg4vLUR44IVamV/fJfLHo8SUyFREYkqksCWmRApbYkqksCWmRApbYkqksCWmRApbYkqksCWmRApbYkqksCWmRApbYkqksCWmRApbYkqksCWmRAo7C5Be6sYjhZ1xpJd6OpBP0MwL0kt9vpHCTjfSSz0jSGGnFemlninkM4/pRHqpZwwp7DQivdQzRxbMikgvdYnxLHwv9a80eo7UULa5jMdXfZ+NL7cTGtVMtnupo6O27qSptYmtL/uRTuoGko53E8+fl/qICLy5Ruz+4Ep8meYVu52KUJzNojd5m2z1Ug95xHqlWfSKAeHdsV7aThtIGlIRnXDID7hY/XfJV2Fb3EQUP31hHdAJdjYR/eeS1E4Dt4I017YTBbikERldHgvie1ej66ifMEDeBrY/b4doE96zo5ftuHNC7jvpdk6YGkvBBmqPn+L461VU7NnP/ucc4wZPX+mJWBbDohC9/bNzLZOkZmF7qVus2IqsWP8G9FvxRbnWvHgvosPjTWSrl/p3itm8IkLsWojeM5nujLlY2F7qFjsVHec531E55ligXVUBO6sfzk1qJEu91C2FbPjFJgosOdj+wc7KAjnNZxTm8lK/4afznSiOnYcoX5H8hclWL/UIF95rJ7IU+p5q5D+WGdGmBEzlpa7R9UYdwY2NHKssulO88+SlPjdsbGhqnO+D3hOYxEtdRz2yhxMPvsb7lS5s82yklEx+fr6h7c3Nm10yiim81LXT1TSN7KL1pWKsi0D7sIyWJa00Ju07X17qcxOiRucbLah/0cjZfojaYpljG8WC91LXL7Sw58MH2LTVQvjPQcLEUP8Yw/bT5B5k0Et9Ji50ESqqZX9xM99t9FJSXCFf+G4Qxgj7Qhtl73QTvRyvCqotL1L2580cet3FtNegAjtFNBD6Px2+bRlv5412ghc0oIea43l0bHUAYTp37aMzFG+/561tlH1aTu3Pc2nf0YQaBTXYntR4MY37koWtceWMFcePUn/hDCcapP3wCXy6jbXf0gnrhdiiXizbTlEydIWeoEpV5XJcl/7EYBTs8qJtDJmrDZncS10IMfzpQVHq3CI8F8crsMO+aqEo9SKQZNk70LVbrHnJKwbmt3umRnqpp4vBLuqqOrE3HKLikfEEKCfXBk8uH/sNop1toO36dt5/voDF8nlH48js98qsXuqJ/0YT7llJcHtEDCf6MnKxWZQ61wl3uVusm2pbydcmw8IWQohhETjgFvWfjqTedK7c7BXNlQeFT0tD2zPSJ5qdk2/YkswnWfBoWA5FezsoSkfT9zuobHako+WUWKzANy2TfqyGaNsapOj46OxHkpf6lJ8lX5cseNDAjNgpesYB/iChsXn6GOqRZvSflsdFfU2l862d/H2tP37X4uTPkrtCPhqWNmKo79bR4AeH6yHQRlj+7C42FCRdjS+0kH/MxvnmDfFp0cmfJV+bLEhFzEoOjucOceq5TPfj3kSmIhJTIoWdKca81K+gfhZFn/w50/1b4MgcW2JK5BVbYkqksCWmRApbYkqksCWmRApbYkqksCWmRApbYkqksCWmRApbYkqksCWmRApbYkqksCWmRApbYkqksCWmRApbYkqksCWmRApbYkqksCWmJAuEfTcGphpdVTtpu5TtTwim0aQ168YgS2I19sVSEdH9ulu4n1kjFEURTpdbuMvjf6XFTrGuol54wxNf+tV3rFSUHu6dxavAIsL3klMoBwITF1/vFnXOLeLkVSPjSNGTj+uFu7xUrFEUoSTevecuj8ftdG0R9V1XJsQz+xiFiPxht3AqB0Xg9p3rRoYCwrO3Wni1SSvSNgYZOJ+3B0T34erE+wzXiNK9J0Rfsl3oLGNd4AamiZZ/s0UolV4RMaj/s2LIK3YoilB+7hMTovxdPPYdXYnezCHG+ElT7njNcN97buF2u0VpsSIUxT3lSU3nGGSXIe3sYl3YBqajLT/2Yzad8eD73LAgUqKH+/ADriLHBJcEm60QAH8ojD6XGNEJHq2mPQoQQrs2vsb+kw46OjqofWb6vdM3BtlmSDu7WBe2gekoS5ax2hWi/VzIuDBSEP7MCxSxsmCi+UfoYg8ArofzsMw6RtAvtNEUfYXGnQA6+u05dmgOY6APqqiDs83Js9CQdhaxLmwD0zFs5C2DsNo/Ty901AgFo7BsNY7kd/ENduE5GsK2sZEql232MRKi/Y0+Sl5wUbgYQEUbmuuPwdmPQeijjWx8X53dS3my1JA2VaymMTC15rmgK0IEpnyho6EGpdFLBM4BBX34ft2GCgxrvag3cnnitdO88gM71kWzjRG0D5sIPFVFa4GF2FIX4J/7FZtUYxCiZdVWAs+2sj/PRdEtC+Ff7+SF/bns79tP8TQWgtlpSJv6fJvGwHTxfUB/hNhEp7wxjHQF0y/30gUUP19L7UZbYmnFndvNIkYGu2j4zUp2tU/8F57sjDZbZh4DO5W+4xS+38y2Kj8al2jeU0VjdzFF0/piZq8hbarzbRID0/kldCGeX69elpty25mJ0XO0if7FeTTtCMQX3RwEIHorDfPAt+P5rMVqxQr0Dw1juX86g0BYyIa0pjAwBRi5DSx7YNofLsalIhrh/46CtQT70pmDnDlG0M81s49aTne4xq9In7WwqqSJcCTGNBejaZlxDL5SaVq/h/C2Rhr3QpO+ndrbHl5YH6Hxv6oommqnLDakTXW+F7yB6dixB/2w9B+xTXNgw1KRaxfoPkfc+SvFlWSmGLnhp6FKo+q3tRP/zVptOAD/5xoRiuaUjMw4BoscVJ3/BAD1SBnBm5sprGnlk5/M0F7WGtKmPt/GFGhUT6JSpIxXqF71zVwsGAmIekURdd1JlQjVM1blUpQ1wn1sdFr+ijhZOVqgSFT7fnZC9I1V5waEd4citrx3JX1mRrd7hafcLdwu53gfyuuEb2iGfaaK8Xav8IxWLRVFrHF7RG8ijisf7EiK3ynWuXeLE6FEgWby+JZPrkDOfgxGtF4RuDw8/QaZOp9DPlGdOObEv8mVxtSxmsPA9LpPVCtbxInL2ebRNY8mrRkfg+yK1RQGptrZk3SX/ZiS72Sb29Z8mbRmwxhkWazp/3rNhAEGpte7RV3x7jtvDMoa5sGkNWvGIHtiXeAGpgPCu7danLg4Q76YFaTRpDXrxiA7YpVWHRJTkgUPGkgkxiOFLTElUtgSUyKFLTElUtgSUyKFLTEl/w9buVnMWvvGTgAAAABJRU5ErkJggg==)"
      ],
      "metadata": {
        "id": "evEVNMFc4PyL"
      }
    },
    {
      "cell_type": "code",
      "source": [
        "PA1 = (fl(7) / (fl(2)*fl(7 - 2))) / (fl(10) / (fl(2)*fl(10 - 2)))\n",
        "PA2 = (fl(9) / (fl(2)*fl(9 - 2))) / (fl(11) / (fl(2)*fl(11 - 2)))\n",
        "print(f'Вероятность того, что все мячи белые = {PA1 * PA2 :.3f}')"
      ],
      "metadata": {
        "colab": {
          "base_uri": "https://localhost:8080/"
        },
        "id": "zSs6rFGV4UNn",
        "outputId": "d7676e3b-67ef-4bfa-bcd7-02c7797691a6"
      },
      "execution_count": 5,
      "outputs": [
        {
          "output_type": "stream",
          "name": "stdout",
          "text": [
            "Вероятность того, что все мячи белые = 0.305\n"
          ]
        }
      ]
    },
    {
      "cell_type": "markdown",
      "source": [
        "A11 - из первого ящика вынули два белых мяча\n",
        "\n",
        "А12 - из второго ящика вынули только черные мячи\n",
        "\n",
        "А21 - из второго ящика вынули два белых мяча\n",
        "\n",
        "А22 - из первого ящика вынули только черные мячи\n",
        "\n",
        "А31 - из первого ящика вынули один белый мячи\n",
        "\n",
        "А32 - из второго ящика вынули один белый мячи\n",
        "\n",
        "А = А11 * А12 + А21 * А22 + А31 * А32 - вынули ровно два белых мяча"
      ],
      "metadata": {
        "id": "RcgMQ1ln4YKg"
      }
    },
    {
      "cell_type": "markdown",
      "source": [
        "![image.png](data:image/png;base64,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)"
      ],
      "metadata": {
        "id": "RxxK4ubK4cG6"
      }
    },
    {
      "cell_type": "code",
      "source": [
        "PA11A12 =  (fl(7) / (fl(2)*fl(7 - 2))) / (fl(10) / (fl(2)*fl(10 - 2))) * (fl(2) / (fl(2)*fl(2 - 2))) / (fl(11) / (fl(2)*fl(11 - 2)))"
      ],
      "metadata": {
        "id": "4bXgSiiE4crG"
      },
      "execution_count": 6,
      "outputs": []
    },
    {
      "cell_type": "markdown",
      "source": [
        "![image.png](data:image/png;base64,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)"
      ],
      "metadata": {
        "id": "DlhA2J3G4iqk"
      }
    },
    {
      "cell_type": "code",
      "source": [
        "PA21A22 = (fl(3) / (fl(2)*fl(3 - 2))) / (fl(10) / (fl(2)*fl(10 - 2))) * (fl(9) / (fl(2)*fl(9 - 2))) / (fl(11) / (fl(2)*fl(11 - 2)))"
      ],
      "metadata": {
        "id": "59SNcJ134jOb"
      },
      "execution_count": 7,
      "outputs": []
    },
    {
      "cell_type": "markdown",
      "source": [
        "![image.png](data:image/png;base64,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)"
      ],
      "metadata": {
        "id": "f6O1pE5o4pZz"
      }
    },
    {
      "cell_type": "code",
      "source": [
        "PA31 = (fl(7) / (fl(1)*fl(7 - 1)) * fl(3)) / (fl(1)*fl(3 - 1)) / (fl(10) / (fl(2)*fl(10 - 2)))\n",
        "PA32 = (fl(9) / (fl(1)*fl(9 - 1)) * fl(2)) / (fl(1)*fl(2 - 1)) / (fl(11) / (fl(2)*fl(11 - 2)))"
      ],
      "metadata": {
        "id": "HKU697BH4p4K"
      },
      "execution_count": 8,
      "outputs": []
    },
    {
      "cell_type": "code",
      "source": [
        "PA = PA11A12 + PA21A22 + PA31 * PA32\n",
        "print(f'Вероятность того, что вынут ровно два белых мяча = {PA :.3f}')"
      ],
      "metadata": {
        "colab": {
          "base_uri": "https://localhost:8080/"
        },
        "id": "Hq-CrpTB4wYo",
        "outputId": "be1578e7-f6e4-44da-8774-c023279fda84"
      },
      "execution_count": 9,
      "outputs": [
        {
          "output_type": "stream",
          "name": "stdout",
          "text": [
            "Вероятность того, что вынут ровно два белых мяча = 0.205\n"
          ]
        }
      ]
    },
    {
      "cell_type": "code",
      "source": [
        "PA = 1 - (fl(3) / (fl(2)*fl(3 - 2))) / (fl(10) / (fl(2)*fl(10 - 2))) * (fl(2) / (fl(2)*fl(2 - 2))) / (fl(11) / (fl(2)*fl(11 - 2)))\n",
        "print(f'Вероятность того, что вытянут хотя бы один белый мяч = {PA :.3f}')"
      ],
      "metadata": {
        "colab": {
          "base_uri": "https://localhost:8080/"
        },
        "id": "FtBqApxV4x-B",
        "outputId": "6d446590-116c-4b53-8050-aea9eb6920db"
      },
      "execution_count": 10,
      "outputs": [
        {
          "output_type": "stream",
          "name": "stdout",
          "text": [
            "Вероятность того, что вытянут хотя бы один белый мяч = 0.999\n"
          ]
        }
      ]
    }
  ]
}