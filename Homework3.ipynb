{
  "nbformat": 4,
  "nbformat_minor": 0,
  "metadata": {
    "colab": {
      "provenance": [],
      "authorship_tag": "ABX9TyOwo3K7UCUzeJGi7Lgi6aWk"
    },
    "kernelspec": {
      "name": "python3",
      "display_name": "Python 3"
    },
    "language_info": {
      "name": "python"
    }
  },
  "cells": [
    {
      "cell_type": "code",
      "execution_count": 1,
      "metadata": {
        "id": "4qIpNP228ZZE"
      },
      "outputs": [],
      "source": [
        "import pandas as pd\n",
        "import numpy as np\n",
        "from math import factorial as fl"
      ]
    },
    {
      "cell_type": "markdown",
      "source": [
        "**1. Даны значения зарплат из выборки выпускников: 100, 80, 75, 77, 89, 33, 45, 25, 65, 17, 30, 24, 57, 55, 70, 75, 65, 84, 90, 150. Посчитать (желательно без использования статистических методов наподобие std, var, mean) среднее арифметическое, среднее квадратичное отклонение, смещенную и несмещенную оценки дисперсий для данной выборки.**"
      ],
      "metadata": {
        "id": "GWN1i3tR8igv"
      }
    },
    {
      "cell_type": "code",
      "source": [
        "data = pd.Series([100, 80, 75, 77, 89, 33, 45, 25, 65, 17, 30, 24, 57, 55, 70, 75, 65, 84, 90, 150])"
      ],
      "metadata": {
        "id": "EPiCPOMS8sup"
      },
      "execution_count": 2,
      "outputs": []
    },
    {
      "cell_type": "code",
      "source": [
        "ME = data.sum() / data.count()\n",
        "print(f'Среднее арифметическое для данной выборки ={ME: .2f}')"
      ],
      "metadata": {
        "colab": {
          "base_uri": "https://localhost:8080/"
        },
        "id": "GSdW3Z6D8u1o",
        "outputId": "23f7aab4-0914-41ee-fe4a-7272968b8eba"
      },
      "execution_count": 9,
      "outputs": [
        {
          "output_type": "stream",
          "name": "stdout",
          "text": [
            "Среднее арифметическое для данной выборки = 65.30\n"
          ]
        }
      ]
    },
    {
      "cell_type": "code",
      "source": [
        "SD = np.sqrt(((data - ME) ** 2).sum() / data.count())\n",
        "print(f'Среднее квадратичное отклонение для данной выборки SD ={SD: .4f}')"
      ],
      "metadata": {
        "colab": {
          "base_uri": "https://localhost:8080/"
        },
        "id": "laccyBRz9IIG",
        "outputId": "c050eba6-b645-4511-d9f9-9760a67b790b"
      },
      "execution_count": 10,
      "outputs": [
        {
          "output_type": "stream",
          "name": "stdout",
          "text": [
            "Среднее квадратичное отклонение для данной выборки SD = 30.8239\n"
          ]
        }
      ]
    },
    {
      "cell_type": "code",
      "source": [
        "dispers = ((data - ME) ** 2).sum() / data.count()\n",
        "print(f'Смещенная оценка дисперсии для данной выборки D ={dispers: .4f}\\n')"
      ],
      "metadata": {
        "colab": {
          "base_uri": "https://localhost:8080/"
        },
        "id": "Ph_LHBF09aT5",
        "outputId": "1b3c1628-efe0-45a6-f255-7083cf13aaa7"
      },
      "execution_count": 12,
      "outputs": [
        {
          "output_type": "stream",
          "name": "stdout",
          "text": [
            "Смещенная оценка дисперсии для данной выборки D = 950.1100\n",
            "\n"
          ]
        }
      ]
    },
    {
      "cell_type": "code",
      "source": [
        "dispers2 = ((data - ME) ** 2).sum() / (data.count() - 1)\n",
        "print(f'Немещенная оценка дисперсии для данной выборки D = {dispers2: .4f}')"
      ],
      "metadata": {
        "colab": {
          "base_uri": "https://localhost:8080/"
        },
        "id": "lnOvybzj96a0",
        "outputId": "d8a6f26f-79dc-4b85-cc91-fa67aa1972eb"
      },
      "execution_count": 13,
      "outputs": [
        {
          "output_type": "stream",
          "name": "stdout",
          "text": [
            "Немещенная оценка дисперсии для данной выборки D =  1000.1158\n"
          ]
        }
      ]
    },
    {
      "cell_type": "markdown",
      "source": [
        "**2. В первом ящике находится 8 мячей, из которых 5 - белые. Во втором ящике - 12 мячей, из которых 5 белых. Из первого ящика вытаскивают случайным образом два мяча, из второго - 4. Какова вероятность того, что 3 мяча белые?**"
      ],
      "metadata": {
        "id": "PY61hMv_-e53"
      }
    },
    {
      "cell_type": "markdown",
      "source": [
        "А11 - из первого ящика вынули два белых мяча\n",
        "\n",
        "А12 - из второго ящика вынули один белый мяч\n",
        "\n",
        "А21 - из первого ящика вынули один белый мяч\n",
        "\n",
        "А22 - из второго ящика вынули два белых мяча\n",
        "\n",
        "А31 - из первого ящика вынули ноль белых мячей\n",
        "\n",
        "А32 - из второго ящика вынули три белых мяча\n",
        "\n",
        "А - из ящиков вынули три белых мяча\n",
        "\n",
        "А = А11* А12 + А21* А22 + А31* А32"
      ],
      "metadata": {
        "id": "2MIa1tm8-laG"
      }
    },
    {
      "cell_type": "code",
      "source": [
        "PA11 = (fl(5) / (fl(2) * fl(5 - 2))) * (fl(3) / (fl(0) * fl(3 - 0))) / (fl(8) / (fl(2) * fl(8 - 2)))\n",
        "PA12 = (fl(5) / (fl(1) * fl(5 - 1))) * (fl(7) / (fl(3) * fl(7 - 3))) / (fl(12) / (fl(4) * fl(12 - 4)))\n",
        "PA21 = (fl(5) / (fl(1) * fl(5 - 1))) * (fl(3) / (fl(1) * fl(3 - 1))) / (fl(8) / (fl(2) * fl(8 - 2)))\n",
        "PА22 = (fl(5) / (fl(2) * fl(5 - 2))) * (fl(7) / (fl(2) * fl(7 - 2))) / (fl(12) / (fl(4) * fl(12 - 4)))\n",
        "PA31 = (fl(5) / (fl(0) * fl(5 - 0))) * (fl(3) / (fl(2) * fl(3 - 2))) / (fl(8) / (fl(2) * fl(8 - 2)))\n",
        "PA32 = (fl(5) / (fl(3) * fl(5 - 3))) * (fl(7) / (fl(1) * fl(7 - 1))) / (fl(12) / (fl(4) * fl(12 - 4)))"
      ],
      "metadata": {
        "id": "rUw0FaIQ-o3o"
      },
      "execution_count": 14,
      "outputs": []
    },
    {
      "cell_type": "code",
      "source": [
        "PA = PA11 * PA12 + PA21 * PА22 + PA31 * PA32\n",
        "print(f'Вероятность того, что из вытащенных мячей 3 белые Р(А) = {PA: .4f}')"
      ],
      "metadata": {
        "colab": {
          "base_uri": "https://localhost:8080/"
        },
        "id": "sJgrqhYs-rA_",
        "outputId": "2ca621a2-1ea2-48d6-a2dd-221742a71a63"
      },
      "execution_count": 15,
      "outputs": [
        {
          "output_type": "stream",
          "name": "stdout",
          "text": [
            "Вероятность того, что из вытащенных мячей 3 белые Р(А) =  0.3687\n"
          ]
        }
      ]
    },
    {
      "cell_type": "markdown",
      "source": [
        "**3. На соревновании по биатлону один из трех спортсменов стреляет и попадает в мишень. Вероятность попадания для первого спортсмена равна 0.9, для второго — 0.8, для третьего — 0.6. Найти вероятность того, что выстрел произведен: a). первым спортсменом б). вторым спортсменом в). третьим спортсменом.**"
      ],
      "metadata": {
        "id": "Sg8OgbaA-74C"
      }
    },
    {
      "cell_type": "markdown",
      "source": [
        "А - мишень поражена\n",
        "\n",
        "А1 - первый стрелок попал в цель\n",
        "\n",
        "А2 - второй стрелок попал в цель\n",
        "\n",
        "А3 - третий стрелок попал в цель"
      ],
      "metadata": {
        "id": "w5qGsi4Q_NgL"
      }
    },
    {
      "cell_type": "code",
      "source": [
        "PA = 1 / 3 * 0.9 + 1 / 3 * 0.8 + 1 / 3 * 0.6\n",
        "print(f'Полная вероятность наступления события А{PA: .4f}')"
      ],
      "metadata": {
        "colab": {
          "base_uri": "https://localhost:8080/"
        },
        "id": "Foc0tiGj_N_C",
        "outputId": "bfc2d7c1-c174-495e-81f7-fae987585541"
      },
      "execution_count": 22,
      "outputs": [
        {
          "output_type": "stream",
          "name": "stdout",
          "text": [
            "Полная вероятность наступления события А 0.7667\n"
          ]
        }
      ]
    },
    {
      "cell_type": "code",
      "source": [
        "PA1 = 1 / 3 * 0.9 / PA\n",
        "print(f'Вероятность того, что выстрел произвёл первый спортсмен: {PA1: .4f}')"
      ],
      "metadata": {
        "colab": {
          "base_uri": "https://localhost:8080/"
        },
        "id": "PY6AR0eD_cGM",
        "outputId": "5163f96a-d1a0-4104-9d21-688e5fc9745d"
      },
      "execution_count": 17,
      "outputs": [
        {
          "output_type": "stream",
          "name": "stdout",
          "text": [
            "Вероятность того, что выстрел произвёл первый спортсмен:  0.3913\n"
          ]
        }
      ]
    },
    {
      "cell_type": "code",
      "source": [
        "PA2 = 1 / 3 * 0.8 / PA\n",
        "print(f'Вероятность того, что выстрел произвёл второй спортсмен: {PA2: .4f}')"
      ],
      "metadata": {
        "colab": {
          "base_uri": "https://localhost:8080/"
        },
        "id": "EWdu95yW_nNb",
        "outputId": "73e9475a-3a48-4201-ffd7-f628c3667149"
      },
      "execution_count": 18,
      "outputs": [
        {
          "output_type": "stream",
          "name": "stdout",
          "text": [
            "Вероятность того, что выстрел произвёл второй спортсмен:  0.3478\n"
          ]
        }
      ]
    },
    {
      "cell_type": "code",
      "source": [
        "PA3 = 1 / 3 * 0.6 / PA\n",
        "print(f'Вероятность того, что выстрел произвёл третий спортсмен: {PA3: .4f}')"
      ],
      "metadata": {
        "colab": {
          "base_uri": "https://localhost:8080/"
        },
        "id": "_MEQ1Dmn_tdt",
        "outputId": "25801886-f3a5-4c39-8f63-43e3ec7e0cf6"
      },
      "execution_count": 19,
      "outputs": [
        {
          "output_type": "stream",
          "name": "stdout",
          "text": [
            "Вероятность того, что выстрел произвёл третий спортсмен:  0.2609\n"
          ]
        }
      ]
    },
    {
      "cell_type": "markdown",
      "source": [
        "**4. В университет на факультеты A и B поступило равное количество студентов, а на факультет C студентов поступило столько же, сколько на A и B вместе. Вероятность того, что студент факультета A сдаст первую сессию, равна 0.8. Для студента факультета B эта вероятность равна 0.7, а для студента факультета C - 0.9. Студент сдал первую сессию. Какова вероятность, что он учится: a). на факультете A б). на факультете B в). на факультете C?**"
      ],
      "metadata": {
        "id": "eqNsaO93_0sU"
      }
    },
    {
      "cell_type": "markdown",
      "source": [
        "А - Студент сдал первую сессию\n",
        "\n",
        "А1 - студент с факультета А\n",
        "\n",
        "А2 - студент с факультета В\n",
        "\n",
        "А3 - студент с факультета С"
      ],
      "metadata": {
        "id": "t7wYoIW1_4IO"
      }
    },
    {
      "cell_type": "code",
      "source": [
        "PA = 1 / 4 * 0.8 + 1 / 4 * 0.7 + 2 / 4 * 0.9\n",
        "print(f'Полная вероятность наступления события {PA}.')"
      ],
      "metadata": {
        "colab": {
          "base_uri": "https://localhost:8080/"
        },
        "id": "9A_xAjtvAPtx",
        "outputId": "d4b21182-e03b-4d10-d994-0dbdb7d2e92c"
      },
      "execution_count": 20,
      "outputs": [
        {
          "output_type": "stream",
          "name": "stdout",
          "text": [
            "Полная вероятность наступления события 0.825.\n"
          ]
        }
      ]
    },
    {
      "cell_type": "code",
      "source": [
        "PA1 = 1 / 4 * 0.8 / PA\n",
        "print(f'Вероятность того, что студент учится на факультете А:{PA1: .4f}')"
      ],
      "metadata": {
        "colab": {
          "base_uri": "https://localhost:8080/"
        },
        "id": "52yQlLCRAdTU",
        "outputId": "d439ac14-79c7-4176-bb66-57cff3f234c8"
      },
      "execution_count": 24,
      "outputs": [
        {
          "output_type": "stream",
          "name": "stdout",
          "text": [
            "Вероятность того, что студент учится на факультете А: 0.2609\n"
          ]
        }
      ]
    },
    {
      "cell_type": "code",
      "source": [
        "PA2 = 1 / 4 * 0.7 / PA\n",
        "print(f'Вероятность того, что студент учится на факультете B:{PA2: .4f}')"
      ],
      "metadata": {
        "colab": {
          "base_uri": "https://localhost:8080/"
        },
        "id": "LsM4GWtwA1D_",
        "outputId": "f2f32fd3-f66f-402a-a8de-3f2a0390f6ae"
      },
      "execution_count": 25,
      "outputs": [
        {
          "output_type": "stream",
          "name": "stdout",
          "text": [
            "Вероятность того, что студент учится на факультете B: 0.2283\n"
          ]
        }
      ]
    },
    {
      "cell_type": "code",
      "source": [
        "PA3 = 2 / 4 * 0.9 / PA\n",
        "print(f'Вероятность того, что студент учится на факультете С:{PA3: .4f}')"
      ],
      "metadata": {
        "colab": {
          "base_uri": "https://localhost:8080/"
        },
        "id": "MAU5jDKGA7dc",
        "outputId": "cd089419-9db8-4ff9-9703-3d9759fb9c9d"
      },
      "execution_count": 26,
      "outputs": [
        {
          "output_type": "stream",
          "name": "stdout",
          "text": [
            "Вероятность того, что студент учится на факультете С: 0.5870\n"
          ]
        }
      ]
    },
    {
      "cell_type": "markdown",
      "source": [
        "**5. Устройство состоит из трех деталей. Для первой детали вероятность выйти из строя в первый месяц равна 0.1, для второй - 0.2, для третьей - 0.25. Какова вероятность того, что в первый месяц выйдут из строя: а). все детали б). только две детали в). хотя бы одна деталь г). от одной до двух деталей?**"
      ],
      "metadata": {
        "id": "Lcb2zl9QBChi"
      }
    },
    {
      "cell_type": "markdown",
      "source": [
        "А - из строя вышли все детали"
      ],
      "metadata": {
        "id": "OOph6CyaBHAG"
      }
    },
    {
      "cell_type": "code",
      "source": [
        "PA = 0.1 * 0.2 * 0.25\n",
        "print(f'Вероятность того, что из строя выйдут все детали{PA: .4f}')"
      ],
      "metadata": {
        "colab": {
          "base_uri": "https://localhost:8080/"
        },
        "id": "Wy0rjzxiBIhh",
        "outputId": "e3b0b18f-ff46-4da7-9373-946b7992ddca"
      },
      "execution_count": 27,
      "outputs": [
        {
          "output_type": "stream",
          "name": "stdout",
          "text": [
            "Вероятность того, что из строя выйдут все детали 0.0050\n"
          ]
        }
      ]
    },
    {
      "cell_type": "markdown",
      "source": [
        "B1 - из строя вышли первая и вторая деталь, но не вышла третья\n",
        "\n",
        "B2 - из строя вышла первая и третья деталь, но не вышла вторая\n",
        "\n",
        "B3 - из строя вышла вторая и третья деталь, но не вышла первая\n",
        "\n",
        "В = B1 + B2 + B3 - из строя вышло только две детали"
      ],
      "metadata": {
        "id": "RdcqD6i9Brhz"
      }
    },
    {
      "cell_type": "code",
      "source": [
        "PB = 0.1 * 0.2 * 0.75 + 0.1 * 0.8 * 0.25 + 0.9 * 0.2 * 0.25\n",
        "print(f'Вероятность того, что из строя выйдут только 2 детали{PB: .4f}')"
      ],
      "metadata": {
        "colab": {
          "base_uri": "https://localhost:8080/"
        },
        "id": "1epZuqrfBtXH",
        "outputId": "b468545a-6b0f-44cd-bbb6-5c49d316f34f"
      },
      "execution_count": 28,
      "outputs": [
        {
          "output_type": "stream",
          "name": "stdout",
          "text": [
            "Вероятность того, что из строя выйдут только 2 детали 0.0800\n"
          ]
        }
      ]
    },
    {
      "cell_type": "markdown",
      "source": [
        "C - из строя вышла хотя бы одна деталь"
      ],
      "metadata": {
        "id": "_R7GPzaNB0Ny"
      }
    },
    {
      "cell_type": "code",
      "source": [
        "PC = 1 - 0.9 * 0.8 * 0.75\n",
        "print(f'Вероятность того, что выйдет из строя хотя бы одна деталь{PC: .4f}')"
      ],
      "metadata": {
        "colab": {
          "base_uri": "https://localhost:8080/"
        },
        "id": "FxR_r3R1B0tV",
        "outputId": "ae2e018a-9d9e-440d-ea2a-8c1d9f438c4d"
      },
      "execution_count": 29,
      "outputs": [
        {
          "output_type": "stream",
          "name": "stdout",
          "text": [
            "Вероятность того, что выйдет из строя хотя бы одна деталь 0.4600\n"
          ]
        }
      ]
    },
    {
      "cell_type": "markdown",
      "source": [
        "D1 - из строя вышла первая деталь\n",
        "\n",
        "D2 - из строя вышла вторая деталь\n",
        "\n",
        "D3 - из строя вышла третья деталь\n",
        "\n",
        "D - из строя вышла одна деталь\n",
        "\n",
        "Е = В + D - из строя вышло от одной до двух деталей"
      ],
      "metadata": {
        "id": "tMdFuq8sCHtf"
      }
    },
    {
      "cell_type": "code",
      "source": [
        "PD = 0.9 * 0.2 * 0.25 + 0.1 * 0.8 * 0.25 + 0.1 * 0.2 * 0.75\n",
        "print(f'Вероятность того, что выйдет из строя от одной до двух деталей {PD: .4f}')"
      ],
      "metadata": {
        "colab": {
          "base_uri": "https://localhost:8080/"
        },
        "id": "Wr_pLtwICIJn",
        "outputId": "e5c7b041-3476-4351-b43e-c9377718a1aa"
      },
      "execution_count": 31,
      "outputs": [
        {
          "output_type": "stream",
          "name": "stdout",
          "text": [
            "Вероятность того, что выйдет из строя от одной до двух деталей  0.0800\n"
          ]
        }
      ]
    }
  ]
}