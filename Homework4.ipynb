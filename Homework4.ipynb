{
  "nbformat": 4,
  "nbformat_minor": 0,
  "metadata": {
    "colab": {
      "provenance": [],
      "authorship_tag": "ABX9TyNCieyUgBuUWxOXl609Umlw"
    },
    "kernelspec": {
      "name": "python3",
      "display_name": "Python 3"
    },
    "language_info": {
      "name": "python"
    }
  },
  "cells": [
    {
      "cell_type": "code",
      "execution_count": 1,
      "metadata": {
        "id": "pFB57D_NrBRJ"
      },
      "outputs": [],
      "source": [
        "import pandas as pd\n",
        "import numpy as np\n",
        "from math import factorial as fl\n",
        "import scipy.stats as st"
      ]
    },
    {
      "cell_type": "markdown",
      "source": [
        "**1. Случайная непрерывная величина A имеет равномерное распределение на промежутке (200, 800]. Найдите ее среднее значение и дисперсию.**"
      ],
      "metadata": {
        "id": "6Gq58pmzrrul"
      }
    },
    {
      "cell_type": "markdown",
      "source": [
        "Найдем среднее значение:"
      ],
      "metadata": {
        "id": "NW1X-opDu7pr"
      }
    },
    {
      "cell_type": "markdown",
      "source": [
        "![image.png](data:image/png;base64,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)"
      ],
      "metadata": {
        "id": "EA34pJ4Krt2h"
      }
    },
    {
      "cell_type": "code",
      "source": [
        "MX = (200 + 800) / 2\n",
        "MX"
      ],
      "metadata": {
        "colab": {
          "base_uri": "https://localhost:8080/"
        },
        "id": "8jgQf2Q7u4BH",
        "outputId": "0cce5f7f-25ab-41ed-e195-2d96319fe4d2"
      },
      "execution_count": 2,
      "outputs": [
        {
          "output_type": "execute_result",
          "data": {
            "text/plain": [
              "500.0"
            ]
          },
          "metadata": {},
          "execution_count": 2
        }
      ]
    },
    {
      "cell_type": "markdown",
      "source": [
        "Найдем дисперсию:"
      ],
      "metadata": {
        "id": "dCjgxu8CvrCx"
      }
    },
    {
      "cell_type": "markdown",
      "source": [
        "![image.png](data:image/png;base64,iVBORw0KGgoAAAANSUhEUgAAAGsAAAAtCAYAAACpvpV9AAAEvElEQVR4nO2aMU/yXBTH/33zfgBrN8NEHTUMFhwkDgxAXDUpiatLGV0MZTUx5QMYHBxNcXCEiAMM7cCgSZtIXCijUyv6Ce47mPZVaHm0UFoe+ks69Lb0/unpPfeccy9FCCGIWQr+CVtAzM+JjbVExMZaImJjBUyr1UI6nQZFUdjc3ISu676fRcUBRrCsr6+j2+0ikUjg+PgYAHB/f+/rWZEfWcPhEOVyGY1Gw2mjKAoUReHq6ipEZZ+0Wi2USiWoqup6/e3tDalUCgzDIJfLYW1tzX9nJMJomkZYliWapn1rN02TAJhoDwvDMAjHcUSW5an3FQqFmTRH1limaRKapomiKBPXFEUhNE2HoMobW6+XMQRBIM1mc6Y+IusGr6+vkc/nkc1mJ671+31kMpkQVHnDMAwEQcDZ2dnEtXK5jP39fRwcHMzWyUymDhCWZT3dCs/zRJIkIssyoWnacwTOC03TCM/zBAChaZrU63VSKBRc7wNADMNw2iRJIvV63TkXBMG3jkgayzAMAsDTADRNE1EUHbdSKBRcX968tNA0TQRBIKZpOu5OFEXX+wE4uuz/8fWYRWck3eDr6ysAuLpAXdcxGo2wvb3tuJVcLuf5LFVVnehx2uEVzYmiiEwmg8vLSzAMA4ZhAAB7e3uefT4/PwMAkskkyOeAcA6/YTsA/Ov7lyHR6/XAcRxKpZLT1ul0PEPibDYLMkMqeXt7C1mWnXP7Y9nd3fX9TL9E2liWZTlfsk2320U+n3fOh8Mh2u02FEWZe//2aEskEk7bxcUFCoXChK5FEEk3uLGxAQB4eXmZuPbw8ADDMAB8GornefA87+oy56Wj3+/DsixUq1WwLItkMgld1z2T8q2trblrAbBc0aCmaUQQBCKKohOZSZIUqA67LzuhbTabBIBrgKEoykQ0OE8iWxus1WrodDozTciLplqt4unpKTjNgXwCc2BaBSOK2CF+kCUwT2NJkjSRI3AcN3PJ5Dd41QajhmmaP6oNzsrUkcVxnJNxG4bhGPBrRh40hmEQQRACfxF+URSF8Dy/EA8wdc6iKAqyLH/LaYrFIgaDAQaDQTB+OcYTz9DdXtEcL5jmcjkndPbiJxWDWq02B/mrhWdS3Ov1nJzit0wZrDEz4Gms8UqBTafTAcdxgQmiKCqwZ0cJXx+012RG0/TEpG5Xkf8UYGAsinQ7gk5m/0ZcR5ZdrPw6X1mWBZ7nwbIsjo6O5v/VxPwR1wDDrmzb81Wr1UKxWMRoNMLd3V0oRcwYTLpBOxHFWDIsSRIxTTOEwR9jE9naYMwkkVwiCRLbpbvRaDSc3bMURaFcLsOyrAUrnELYQ3tRmKbpbHpx2wchSRLhOM5Z3pBlOXJR68q4wVKphEqlgna7/eOll3Q6DYZhIrNMszJusNFoIJVK/eo3o9EIOzs7ASn6PStjrN9iL9mfnp6GrOR/Ir1hJixUVUWlUkG3241UThkbawxd13F+fo7Hx0dfRewgid3gF3Rdx+HhIW5ubhxDfV3LC5uVM9bHx4frwqllWTg5OflWTlNVFe/v74uW6E3YucOiEEWRcBznlNBYlv2Wb9lbzsaPoPbQ+2Fl8qy/gZVzg8tMbKwlIjbWEhEba4n4DydnExQYK0YTAAAAAElFTkSuQmCC)"
      ],
      "metadata": {
        "id": "VKzmrPj2vso6"
      }
    },
    {
      "cell_type": "code",
      "source": [
        "DX = (800 - 200) ** 2 / 12\n",
        "DX"
      ],
      "metadata": {
        "colab": {
          "base_uri": "https://localhost:8080/"
        },
        "id": "rA3HKa8wvtPS",
        "outputId": "1d1fd542-9fb7-4711-b880-05f0b3448780"
      },
      "execution_count": 4,
      "outputs": [
        {
          "output_type": "execute_result",
          "data": {
            "text/plain": [
              "30000.0"
            ]
          },
          "metadata": {},
          "execution_count": 4
        }
      ]
    },
    {
      "cell_type": "markdown",
      "source": [
        "**2. О случайной непрерывной равномерно распределенной величине B известно, что ее дисперсия равна 0.2. Можно ли найти правую границу величины B и ее среднее значение зная, что левая граница равна 0.5? Если да, найдите ее.**"
      ],
      "metadata": {
        "id": "vomjPi5ewGHe"
      }
    },
    {
      "cell_type": "markdown",
      "source": [
        "Правая граница распределения величины B:"
      ],
      "metadata": {
        "id": "V8dpNvbSwNN8"
      }
    },
    {
      "cell_type": "code",
      "source": [
        "0.5 + np.sqrt(12 * 0.2)"
      ],
      "metadata": {
        "colab": {
          "base_uri": "https://localhost:8080/"
        },
        "id": "jrkw7dTwwNdV",
        "outputId": "6b79e06f-554a-4b51-a993-e59e970d8ae1"
      },
      "execution_count": 5,
      "outputs": [
        {
          "output_type": "execute_result",
          "data": {
            "text/plain": [
              "2.049193338482967"
            ]
          },
          "metadata": {},
          "execution_count": 5
        }
      ]
    },
    {
      "cell_type": "markdown",
      "source": [
        "Среднее значение величины B:"
      ],
      "metadata": {
        "id": "HVF-WZCyws0u"
      }
    },
    {
      "cell_type": "code",
      "source": [
        "((0.5 + np.sqrt(12 * 0.2)) + 0.5) / 2"
      ],
      "metadata": {
        "colab": {
          "base_uri": "https://localhost:8080/"
        },
        "id": "5q40SBWIwzKD",
        "outputId": "e0488c95-b65c-4b51-d489-dd0df1299b29"
      },
      "execution_count": 9,
      "outputs": [
        {
          "output_type": "execute_result",
          "data": {
            "text/plain": [
              "1.2745966692414834"
            ]
          },
          "metadata": {},
          "execution_count": 9
        }
      ]
    },
    {
      "cell_type": "markdown",
      "source": [
        "**3. Непрерывная случайная величина X распределена нормально и задана плотностью распределения**"
      ],
      "metadata": {
        "id": "qn_jrunzx4hF"
      }
    },
    {
      "cell_type": "markdown",
      "source": [
        "f(x) = (1 / (4 * sqrt(2pi))) * exp((-(x+2)**2) / 32)"
      ],
      "metadata": {
        "id": "rF-U1wDHx_1O"
      }
    },
    {
      "cell_type": "markdown",
      "source": [
        "Найдите:\n",
        "\n",
        "а). M(X)"
      ],
      "metadata": {
        "id": "A3CvtUP_yOQi"
      }
    },
    {
      "cell_type": "markdown",
      "source": [
        "![image.png](data:image/png;base64,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)"
      ],
      "metadata": {
        "id": "uwuI6A57yPml"
      }
    },
    {
      "cell_type": "markdown",
      "source": [
        "![image.png](data:image/png;base64,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)"
      ],
      "metadata": {
        "id": "uodAoEuKzLEm"
      }
    },
    {
      "cell_type": "markdown",
      "source": [
        "![image.png](data:image/png;base64,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)"
      ],
      "metadata": {
        "id": "PoyBX-Uvzpfo"
      }
    },
    {
      "cell_type": "markdown",
      "source": [
        "следовательно:"
      ],
      "metadata": {
        "id": "BAeoMYGSzqJ3"
      }
    },
    {
      "cell_type": "code",
      "source": [
        "MX = -2"
      ],
      "metadata": {
        "id": "0x8r2FGR2ysp"
      },
      "execution_count": 10,
      "outputs": []
    },
    {
      "cell_type": "markdown",
      "source": [
        "б). D(X)"
      ],
      "metadata": {
        "id": "eNpgrAcM24hq"
      }
    },
    {
      "cell_type": "code",
      "source": [
        "DX = 32 / 2\n",
        "DX"
      ],
      "metadata": {
        "colab": {
          "base_uri": "https://localhost:8080/"
        },
        "id": "7VFcrLuI28bh",
        "outputId": "cf977c8e-5322-479e-f2d1-7358203800df"
      },
      "execution_count": 11,
      "outputs": [
        {
          "output_type": "execute_result",
          "data": {
            "text/plain": [
              "16.0"
            ]
          },
          "metadata": {},
          "execution_count": 11
        }
      ]
    },
    {
      "cell_type": "markdown",
      "source": [
        "c) std(X) (среднее квадратичное отклонение)"
      ],
      "metadata": {
        "id": "tB8KwDgZ2--_"
      }
    },
    {
      "cell_type": "code",
      "source": [
        "stdX = 4"
      ],
      "metadata": {
        "id": "nve7O4OR3Ajl"
      },
      "execution_count": 12,
      "outputs": []
    },
    {
      "cell_type": "markdown",
      "source": [
        "**4. Рост взрослого населения города X имеет нормальное распределение. Причем, средний рост равен 174 см, а среднее квадратичное отклонение равно 8 см. Какова вероятность того, что случайным образом выбранный взрослый человек имеет рост:**"
      ],
      "metadata": {
        "id": "OIwrVV6a3Uqs"
      }
    },
    {
      "cell_type": "markdown",
      "source": [
        "**а). больше 182 см**"
      ],
      "metadata": {
        "id": "QoAbsLx_3elb"
      }
    },
    {
      "cell_type": "code",
      "source": [
        "hight = st.norm(loc=174, scale=8)\n",
        "1 - hight.cdf(182)"
      ],
      "metadata": {
        "colab": {
          "base_uri": "https://localhost:8080/"
        },
        "id": "HKTRDGKh3yuk",
        "outputId": "4aa8c960-34f4-44bc-89cf-a7ced41150b7"
      },
      "execution_count": 13,
      "outputs": [
        {
          "output_type": "execute_result",
          "data": {
            "text/plain": [
              "0.15865525393145707"
            ]
          },
          "metadata": {},
          "execution_count": 13
        }
      ]
    },
    {
      "cell_type": "markdown",
      "source": [
        "**б). больше 190 см**"
      ],
      "metadata": {
        "id": "IzWA1UDs3-Ws"
      }
    },
    {
      "cell_type": "code",
      "source": [
        "1 - hight.cdf(190)"
      ],
      "metadata": {
        "colab": {
          "base_uri": "https://localhost:8080/"
        },
        "id": "qB6CEPs03_Tb",
        "outputId": "2579be00-dbcc-4e78-db5c-901cad6dd2d0"
      },
      "execution_count": 14,
      "outputs": [
        {
          "output_type": "execute_result",
          "data": {
            "text/plain": [
              "0.02275013194817921"
            ]
          },
          "metadata": {},
          "execution_count": 14
        }
      ]
    },
    {
      "cell_type": "markdown",
      "source": [
        "**в). от 166 см до 190 см**"
      ],
      "metadata": {
        "id": "UphGFeyx4C30"
      }
    },
    {
      "cell_type": "code",
      "source": [
        "hight.cdf(190) - hight.cdf(166)"
      ],
      "metadata": {
        "colab": {
          "base_uri": "https://localhost:8080/"
        },
        "id": "mG94AJtD4Dzo",
        "outputId": "29c1cd9c-d237-4261-db47-be90a47e43ce"
      },
      "execution_count": 15,
      "outputs": [
        {
          "output_type": "execute_result",
          "data": {
            "text/plain": [
              "0.8185946141203637"
            ]
          },
          "metadata": {},
          "execution_count": 15
        }
      ]
    },
    {
      "cell_type": "markdown",
      "source": [
        "**г). от 166 см до 182 см**"
      ],
      "metadata": {
        "id": "NbFTZW_N4HyW"
      }
    },
    {
      "cell_type": "code",
      "source": [
        "hight.cdf(182) - hight.cdf(166)"
      ],
      "metadata": {
        "colab": {
          "base_uri": "https://localhost:8080/"
        },
        "id": "ImramtZ14I34",
        "outputId": "f4075e62-b2b6-4d80-c123-90cfa6461b05"
      },
      "execution_count": 16,
      "outputs": [
        {
          "output_type": "execute_result",
          "data": {
            "text/plain": [
              "0.6826894921370859"
            ]
          },
          "metadata": {},
          "execution_count": 16
        }
      ]
    },
    {
      "cell_type": "markdown",
      "source": [
        "**д). от 158 см до 190 см**"
      ],
      "metadata": {
        "id": "ElJiOdfx4N5j"
      }
    },
    {
      "cell_type": "code",
      "source": [
        "hight.cdf(190) - hight.cdf(158)"
      ],
      "metadata": {
        "colab": {
          "base_uri": "https://localhost:8080/"
        },
        "id": "_xKLS4o64O12",
        "outputId": "e7fec8e4-5431-49b5-8b0d-bf86752b8ccc"
      },
      "execution_count": 17,
      "outputs": [
        {
          "output_type": "execute_result",
          "data": {
            "text/plain": [
              "0.9544997361036416"
            ]
          },
          "metadata": {},
          "execution_count": 17
        }
      ]
    },
    {
      "cell_type": "markdown",
      "source": [
        "**е). не выше 150 см или не ниже 190 см**"
      ],
      "metadata": {
        "id": "erbKu-m24Sfz"
      }
    },
    {
      "cell_type": "code",
      "source": [
        "hight.cdf(150) + (1 - hight.cdf(190))"
      ],
      "metadata": {
        "colab": {
          "base_uri": "https://localhost:8080/"
        },
        "id": "Unx5CIvc4TTS",
        "outputId": "307bcdaf-fd6c-435e-c893-576e099e4f56"
      },
      "execution_count": 18,
      "outputs": [
        {
          "output_type": "execute_result",
          "data": {
            "text/plain": [
              "0.0241000299798093"
            ]
          },
          "metadata": {},
          "execution_count": 18
        }
      ]
    },
    {
      "cell_type": "markdown",
      "source": [
        "**ё). не выше 150 см или не ниже 198 см**"
      ],
      "metadata": {
        "id": "MelwTLrh4WMx"
      }
    },
    {
      "cell_type": "code",
      "source": [
        "hight.cdf(150) + (1 - hight.cdf(198))"
      ],
      "metadata": {
        "colab": {
          "base_uri": "https://localhost:8080/"
        },
        "id": "LrP6gxm64W6f",
        "outputId": "d5bc0fd2-32cc-4db4-f82e-bf4818c4455c"
      },
      "execution_count": 19,
      "outputs": [
        {
          "output_type": "execute_result",
          "data": {
            "text/plain": [
              "0.0026997960632601965"
            ]
          },
          "metadata": {},
          "execution_count": 19
        }
      ]
    },
    {
      "cell_type": "markdown",
      "source": [
        "**ж). ниже 166 см.**"
      ],
      "metadata": {
        "id": "eLj1zMw74ZzU"
      }
    },
    {
      "cell_type": "code",
      "source": [
        "hight.cdf(166)"
      ],
      "metadata": {
        "colab": {
          "base_uri": "https://localhost:8080/"
        },
        "id": "Xt8f9NZI4aku",
        "outputId": "0b69fb34-4462-42a4-92eb-ad4c1b440d69"
      },
      "execution_count": 20,
      "outputs": [
        {
          "output_type": "execute_result",
          "data": {
            "text/plain": [
              "0.15865525393145707"
            ]
          },
          "metadata": {},
          "execution_count": 20
        }
      ]
    },
    {
      "cell_type": "markdown",
      "source": [
        "**5. На сколько сигм (средних квадратичных отклонений) отклоняется рост человека, равный 190 см, от математического ожидания роста в популяции, в которой M(X) = 178 см и D(X) = 25 кв.см?**"
      ],
      "metadata": {
        "id": "DpI6In1W4dfx"
      }
    },
    {
      "cell_type": "code",
      "source": [
        "(190 - 178) / np.sqrt(25)"
      ],
      "metadata": {
        "colab": {
          "base_uri": "https://localhost:8080/"
        },
        "id": "BlDSpJsn4gbJ",
        "outputId": "c2c5960a-9234-4ff6-f32e-a90661f69bab"
      },
      "execution_count": 21,
      "outputs": [
        {
          "output_type": "execute_result",
          "data": {
            "text/plain": [
              "2.4"
            ]
          },
          "metadata": {},
          "execution_count": 21
        }
      ]
    }
  ]
}