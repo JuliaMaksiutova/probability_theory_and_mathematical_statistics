{
  "nbformat": 4,
  "nbformat_minor": 0,
  "metadata": {
    "colab": {
      "provenance": [],
      "authorship_tag": "ABX9TyPOk46SrTIRlKLVijxzAn0X"
    },
    "kernelspec": {
      "name": "python3",
      "display_name": "Python 3"
    },
    "language_info": {
      "name": "python"
    }
  },
  "cells": [
    {
      "cell_type": "code",
      "execution_count": 1,
      "metadata": {
        "id": "RbYpivB-8T5Q"
      },
      "outputs": [],
      "source": [
        "import numpy as np"
      ]
    },
    {
      "cell_type": "code",
      "source": [
        "from scipy import stats as st"
      ],
      "metadata": {
        "id": "jtLVSNY48rJy"
      },
      "execution_count": 2,
      "outputs": []
    },
    {
      "cell_type": "code",
      "source": [
        "from matplotlib import pyplot as plt"
      ],
      "metadata": {
        "id": "iS-1evO98tbo"
      },
      "execution_count": 3,
      "outputs": []
    },
    {
      "cell_type": "markdown",
      "source": [
        "### **1. Провести дисперсионный анализ для определения того, есть ли различия среднего роста среди взрослых футболистов, хоккеистов и штангистов. Даны значения роста в трех группах случайно выбранных спортсменов: Футболисты: 173, 175, 180, 178, 177, 185, 183, 182. Хоккеисты: 177, 179, 180, 188, 177, 172, 171, 184, 180. Штангисты: 172, 173, 169, 177, 166, 180, 178, 177, 172, 166, 170. Данная промежуточная аттестация оценивается по системе \"зачет\" / \"не зачет\". \"Зачет\" ставится, если Слушатель успешно выполнил задание. \"Незачет\" ставится, если Слушатель не выполнил задание. Критерии оценивания: 1 - Слушатель провел дисперсионный анализ для определения того, есть ли различия среднего роста среди взрослых футболистов, хоккеистов и штангистов.**"
      ],
      "metadata": {
        "id": "yPRI03br8wNr"
      }
    },
    {
      "cell_type": "code",
      "source": [
        "players_football = np.array([173, 175, 180, 178, 177, 185, 183, 182])\n",
        "players_hockey = np.array([177, 179, 180, 188, 177, 172, 171, 184, 180])\n",
        "weightlifters = np.array([172, 173, 169, 177, 166, 180, 178, 177, 172, 166, 170])"
      ],
      "metadata": {
        "id": "Vox-EEob81Hr"
      },
      "execution_count": 4,
      "outputs": []
    },
    {
      "cell_type": "code",
      "source": [
        "alpha = 0.05"
      ],
      "metadata": {
        "id": "iCt5Yg6N83-I"
      },
      "execution_count": 5,
      "outputs": []
    },
    {
      "cell_type": "markdown",
      "source": [
        "*Проверка распределения на нормальность*"
      ],
      "metadata": {
        "id": "HRwivN759DUW"
      }
    },
    {
      "cell_type": "code",
      "source": [
        "st.shapiro(players_football)"
      ],
      "metadata": {
        "colab": {
          "base_uri": "https://localhost:8080/"
        },
        "id": "rvR6Z5cE9D57",
        "outputId": "9aa1ff37-68b2-4d3a-d69d-bdcc07ae3129"
      },
      "execution_count": 6,
      "outputs": [
        {
          "output_type": "execute_result",
          "data": {
            "text/plain": [
              "ShapiroResult(statistic=0.9775082468986511, pvalue=0.9495404362678528)"
            ]
          },
          "metadata": {},
          "execution_count": 6
        }
      ]
    },
    {
      "cell_type": "markdown",
      "source": [
        "players_football pvalue > alpha => normal distribution"
      ],
      "metadata": {
        "id": "Fa4BB-iw9IKR"
      }
    },
    {
      "cell_type": "code",
      "source": [
        "st.shapiro(players_hockey)"
      ],
      "metadata": {
        "colab": {
          "base_uri": "https://localhost:8080/"
        },
        "id": "3n4nA9V89IkQ",
        "outputId": "87f9b8c3-cdd2-4289-a2a7-c61b78e2f77a"
      },
      "execution_count": 7,
      "outputs": [
        {
          "output_type": "execute_result",
          "data": {
            "text/plain": [
              "ShapiroResult(statistic=0.9579196572303772, pvalue=0.7763139009475708)"
            ]
          },
          "metadata": {},
          "execution_count": 7
        }
      ]
    },
    {
      "cell_type": "markdown",
      "source": [
        "players_hockey pvalue > alpha => normal distribution"
      ],
      "metadata": {
        "id": "PePdmeNv9MbE"
      }
    },
    {
      "cell_type": "code",
      "source": [
        "st.shapiro(weightlifters)"
      ],
      "metadata": {
        "colab": {
          "base_uri": "https://localhost:8080/"
        },
        "id": "0jhUbZJa9NpS",
        "outputId": "d74968f5-db8f-40d5-f79d-fc52aac6586f"
      },
      "execution_count": 8,
      "outputs": [
        {
          "output_type": "execute_result",
          "data": {
            "text/plain": [
              "ShapiroResult(statistic=0.9386808276176453, pvalue=0.5051165223121643)"
            ]
          },
          "metadata": {},
          "execution_count": 8
        }
      ]
    },
    {
      "cell_type": "markdown",
      "source": [
        "weightlifters pvalue > alpha => normal distribution"
      ],
      "metadata": {
        "id": "daoYJEJv9QLw"
      }
    },
    {
      "cell_type": "markdown",
      "source": [
        "*Дисперсионный анализ*"
      ],
      "metadata": {
        "id": "i9UUGCDM9Qxl"
      }
    },
    {
      "cell_type": "markdown",
      "source": [
        "![Снимок экрана 2023-09-10 152050.png](data:image/png;base64,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)"
      ],
      "metadata": {
        "id": "zSltfYbj9WyN"
      }
    },
    {
      "cell_type": "markdown",
      "source": [
        "Проверка равенства дисперсий сравниваемых выборок.\n",
        "Для дальнейшего проведения анализа необходимо, чтобы дисперсии сравниваемых выборок были равны.\n",
        "Для проверки используем тест Барлетта."
      ],
      "metadata": {
        "id": "s9nF9wdm9YZt"
      }
    },
    {
      "cell_type": "code",
      "source": [
        "st.bartlett(players_football, players_hockey, weightlifters)"
      ],
      "metadata": {
        "colab": {
          "base_uri": "https://localhost:8080/"
        },
        "id": "xZNcIoDO9Z94",
        "outputId": "71cf5fe9-e7ee-492a-b733-4a5dec575144"
      },
      "execution_count": 9,
      "outputs": [
        {
          "output_type": "execute_result",
          "data": {
            "text/plain": [
              "BartlettResult(statistic=0.4640521043406442, pvalue=0.7929254656083131)"
            ]
          },
          "metadata": {},
          "execution_count": 9
        }
      ]
    },
    {
      "cell_type": "markdown",
      "source": [
        "pvalue > alpha => выборки имеют одинаковую дисперсию"
      ],
      "metadata": {
        "id": "aNM4deXW9dZJ"
      }
    },
    {
      "cell_type": "markdown",
      "source": [
        "Проведем однофакторный дисперсионный анализ"
      ],
      "metadata": {
        "id": "pJEnnU-k9fmI"
      }
    },
    {
      "cell_type": "code",
      "source": [
        "st.f_oneway(players_football, players_hockey, weightlifters)"
      ],
      "metadata": {
        "colab": {
          "base_uri": "https://localhost:8080/"
        },
        "id": "Ln-iOWTQ9hvx",
        "outputId": "625a6215-8587-401a-8ca2-2be9fef3ebf1"
      },
      "execution_count": 10,
      "outputs": [
        {
          "output_type": "execute_result",
          "data": {
            "text/plain": [
              "F_onewayResult(statistic=5.500053450812596, pvalue=0.010482206918698694)"
            ]
          },
          "metadata": {},
          "execution_count": 10
        }
      ]
    },
    {
      "cell_type": "markdown",
      "source": [
        "pvalue < alpha => H0 отвергается<br>\n",
        "**Существуют значимые различия между средним ростом футболистов, хокеистов и штангистов.**"
      ],
      "metadata": {
        "id": "fatVkYBM9kiQ"
      }
    }
  ]
}